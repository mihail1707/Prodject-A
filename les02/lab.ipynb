{
  "cells": [
    {
      "cell_type": "markdown",
      "metadata": {
        "id": "view-in-github",
        "colab_type": "text"
      },
      "source": [
        "<a href=\"https://colab.research.google.com/github/mihail1707/Prodject-A/blob/master/les02/lab.ipynb\" target=\"_parent\"><img src=\"https://colab.research.google.com/assets/colab-badge.svg\" alt=\"Open In Colab\"/></a>"
      ]
    },
    {
      "cell_type": "markdown",
      "metadata": {
        "id": "DnefhKmulW41"
      },
      "source": [
        "# Лабораторная работа №2. Основы Python"
      ]
    },
    {
      "cell_type": "markdown",
      "metadata": {
        "id": "T9XbSOHilW42"
      },
      "source": [
        "## Задание"
      ]
    },
    {
      "cell_type": "markdown",
      "metadata": {
        "id": "J4lWJhEAlW42"
      },
      "source": [
        "Выполните следующие задания:\n",
        "\n",
        "1. Откройте в файл в Google Colab (используйте собственный форк репозитория).\n",
        "2. Решите задачи.\n",
        "3. Сохраните результат в ваш репозиторий github в директорию ./les02\n",
        "4. Создайте pull request в репозиторий https://github.com/chebotarevsa/dap-2024. Название pull request должно иметь формат \"<Номер лабораторной работы>  <Номер группы> <ФИО>\"\n",
        "5. Сдайте работу в системе \"Пегас\", в отчет укажите ссылку на pull request"
      ]
    },
    {
      "cell_type": "markdown",
      "metadata": {
        "id": "fspK8mt_lW42"
      },
      "source": [
        "Задача №1. https://leetcode.com/problems/two-sum/"
      ]
    },
    {
      "cell_type": "code",
      "execution_count": null,
      "metadata": {
        "id": "yWmLO8smlW42",
        "outputId": "b7ad780a-b4d1-4709-9e88-c1e02660aa3f",
        "colab": {
          "base_uri": "https://localhost:8080/"
        }
      },
      "outputs": [
        {
          "output_type": "stream",
          "name": "stdout",
          "text": [
            "[0, 1]\n"
          ]
        }
      ],
      "source": [
        "class Solution1(object):\n",
        "    def twoSum(self, nums, target):\n",
        "        \"\"\"\n",
        "        :type nums: List[int]\n",
        "        :type target: int\n",
        "        :rtype: List[int]\n",
        "        \"\"\"\n",
        "        # Ваше решение\n",
        "        for i in range(len(nums) - 1):\n",
        "          for j in range(i + 1, len(nums)):\n",
        "              if nums[i] + nums[j] == target:\n",
        "                  return [i, j]\n",
        "\n",
        "obj=Solution1()\n",
        "print(obj.twoSum([2,7,11,15],9))"
      ]
    },
    {
      "cell_type": "markdown",
      "metadata": {
        "id": "twIseUgllW43"
      },
      "source": [
        "Задача №2. https://leetcode.com/problems/palindrome-number/description/"
      ]
    },
    {
      "cell_type": "code",
      "execution_count": null,
      "metadata": {
        "id": "XR1IcsUClW43",
        "outputId": "db0b2314-e3bb-4fa8-8c17-1694301a0427",
        "colab": {
          "base_uri": "https://localhost:8080/"
        }
      },
      "outputs": [
        {
          "output_type": "stream",
          "name": "stdout",
          "text": [
            "True\n"
          ]
        }
      ],
      "source": [
        "class Solution2(object):\n",
        "    def isPalindrome(self, x):\n",
        "        \"\"\"\n",
        "        :type x: int\n",
        "        :rtype: bool\n",
        "        \"\"\"\n",
        "\n",
        "        # Ваше решение\n",
        "        return str(x) ==\"\".join(list(str(x))[::-1]);\n",
        "obj=Solution2()\n",
        "print(obj.isPalindrome(12321))"
      ]
    },
    {
      "cell_type": "markdown",
      "metadata": {
        "id": "_JCZwjLilW43"
      },
      "source": [
        "Задача №3. https://leetcode.com/problems/roman-to-integer/description/"
      ]
    },
    {
      "cell_type": "code",
      "execution_count": null,
      "metadata": {
        "id": "_x_Oyhl4lW43",
        "outputId": "9cda88b0-127e-4bc1-93f2-eae9cf9075c1",
        "colab": {
          "base_uri": "https://localhost:8080/"
        }
      },
      "outputs": [
        {
          "output_type": "stream",
          "name": "stdout",
          "text": [
            "58\n"
          ]
        }
      ],
      "source": [
        "class Solution3(object):\n",
        "    def romanToInt(self, s):\n",
        "        \"\"\"\n",
        "        :type s: str\n",
        "        :rtype: int\n",
        "        \"\"\"\n",
        "\n",
        "        # Ваше решение\n",
        "        romanNums = {\n",
        "              'I': 1,\n",
        "              'V': 5,\n",
        "              'X': 10,\n",
        "              'L': 50,\n",
        "              'C': 100,\n",
        "              'D': 500,\n",
        "              'M': 1000\n",
        "            };\n",
        "        res = 0\n",
        "        prevValue = 0\n",
        "        for i in reversed(s):\n",
        "            if romanNums[i] < prevValue:\n",
        "                res -= romanNums[i]\n",
        "            else:\n",
        "                res += romanNums[i]\n",
        "                prevValue = romanNums[i]\n",
        "        return res\n",
        "obj=Solution3()\n",
        "print(obj.romanToInt(\"LVIII\"))"
      ]
    },
    {
      "cell_type": "markdown",
      "metadata": {
        "id": "QT2xdvjYlW43"
      },
      "source": [
        "Задача №4. https://leetcode.com/problems/longest-common-prefix/description/"
      ]
    },
    {
      "cell_type": "code",
      "execution_count": null,
      "metadata": {
        "id": "q6m3tDIzlW43",
        "outputId": "a9de3195-847a-40cd-c32e-8455f57cf426",
        "colab": {
          "base_uri": "https://localhost:8080/"
        }
      },
      "outputs": [
        {
          "output_type": "stream",
          "name": "stdout",
          "text": [
            "fl\n"
          ]
        }
      ],
      "source": [
        "class Solution4(object):\n",
        "    def longestCommonPrefix(self, strs):\n",
        "        \"\"\"\n",
        "        :type strs: List[str]\n",
        "        :rtype: str\n",
        "        \"\"\"\n",
        "        # Ваше решение\n",
        "        if len(strs) == 1: return strs[0] # если единственная строка в массиве\n",
        "        strStart = strs[0];\n",
        "        res =\"\";\n",
        "        for i in range(len(strStart)):\n",
        "            for j in range(len(strs)):\n",
        "                if len(strs[j])-1 < j: return res # если строка закончилась\n",
        "                elif strStart[i] != strs[j][i]: return res; # если прирывается последовательность\n",
        "                if j == len(strs)-1: res+=strStart[i]\n",
        "        return res;\n",
        "obj=Solution4()\n",
        "print(obj.longestCommonPrefix([\"flower\",\"flow\",\"flight\"]))"
      ]
    },
    {
      "cell_type": "markdown",
      "metadata": {
        "id": "bMQp-L01lW43"
      },
      "source": [
        "Задача №5. https://leetcode.com/problems/merge-two-sorted-lists/description/"
      ]
    },
    {
      "cell_type": "code",
      "execution_count": null,
      "metadata": {
        "id": "4aTChcatlW43",
        "outputId": "b775dedb-7f01-4490-a7e2-362e7da6edab",
        "colab": {
          "base_uri": "https://localhost:8080/"
        }
      },
      "outputs": [
        {
          "output_type": "stream",
          "name": "stdout",
          "text": [
            "1 1 2 3 4 4 None\n"
          ]
        }
      ],
      "source": [
        "class ListNode:\n",
        "    def __init__(self, val=0, next=None):\n",
        "        self.val = val  # Значение узла\n",
        "        self.next = next  # Ссылка на следующий узел\n",
        "class Solution5(object):\n",
        "    def mergeTwoLists(self, list1, list2):\n",
        "        \"\"\"\n",
        "        :type list1: Optional[ListNode]\n",
        "        :type list2: Optional[ListNode]\n",
        "        :rtype: Optional[ListNode]\n",
        "        \"\"\"\n",
        "\n",
        "        # Ваше решение\n",
        "        head = ListNode();\n",
        "        current = head\n",
        "        while list1 and list2:\n",
        "            if list1.val <list2.val:\n",
        "                current.next = list1\n",
        "                list1 = list1.next\n",
        "            else:\n",
        "                current.next = list2\n",
        "                list2 = list2.next\n",
        "            current = current.next\n",
        "        current.next = list1 or list2\n",
        "        return head.next\n",
        "def create_linked_list(elements):\n",
        "    \"\"\" Создает связанный список из списка значений и возвращает его голову. \"\"\"\n",
        "    if not elements:\n",
        "        return None\n",
        "    head = ListNode(elements[0])\n",
        "    current = head\n",
        "    for value in elements[1:]:\n",
        "        current.next = ListNode(value)\n",
        "        current = current.next\n",
        "    return head\n",
        "\n",
        "def print_list(node):\n",
        "    \"\"\" Вспомогательная функция для печати связанного списка \"\"\"\n",
        "    while node:\n",
        "        print(node.val, end=\" \")\n",
        "        node = node.next\n",
        "    print(\"None\")\n",
        "list1_values = [1, 2, 4]\n",
        "list2_values = [1, 3, 4]\n",
        "\n",
        "\n",
        "list1 = create_linked_list(list1_values)\n",
        "list2 = create_linked_list(list2_values)\n",
        "obj=Solution5()\n",
        "print_list(obj.mergeTwoLists(list1,list2))\n"
      ]
    },
    {
      "cell_type": "markdown",
      "metadata": {
        "id": "Y8TEDy50lW44"
      },
      "source": [
        "Задача №6. https://leetcode.com/problems/longest-substring-without-repeating-characters/description/"
      ]
    },
    {
      "cell_type": "code",
      "execution_count": null,
      "metadata": {
        "id": "PmfS_kvhlW44",
        "outputId": "5c71dada-dd01-4cbc-fb28-e84b708a8507",
        "colab": {
          "base_uri": "https://localhost:8080/"
        }
      },
      "outputs": [
        {
          "output_type": "stream",
          "name": "stdout",
          "text": [
            "3\n"
          ]
        }
      ],
      "source": [
        "class Solution(object):\n",
        "    def lengthOfLongestSubstring(self, s):\n",
        "        \"\"\"\n",
        "        :type s: str\n",
        "        :rtype: int\n",
        "        \"\"\"\n",
        "\n",
        "        # Ваше решение\n",
        "        char_set = set()\n",
        "        max_length = 0\n",
        "        start = 0\n",
        "\n",
        "        for end in range(len(s)):\n",
        "            while s[end] in char_set:\n",
        "                char_set.remove(s[start])\n",
        "                start += 1\n",
        "\n",
        "            char_set.add(s[end])\n",
        "            max_length = max(max_length, end - start + 1)\n",
        "\n",
        "        return max_length\n",
        "obj=Solution()\n",
        "print(obj.lengthOfLongestSubstring(\"abcabcbb\"))"
      ]
    },
    {
      "cell_type": "markdown",
      "metadata": {
        "id": "ibm84pHWlW44"
      },
      "source": [
        "## Вопросы\n",
        "\n",
        "1. Что такое динамическая типизация и чем она отличается от статической?\n",
        "2. Чем отличается цикл for в Python от цикла for в С++?\n",
        "3. Для чего предназначены операторы continue и break?\n",
        "4. Как определить функцию в python? Может ли функция возвращать несколько значений?\n",
        "5. Что такое лямбда функции и для чего они предназначены?\n",
        "6. Может ли тело функции содержать определение другой функции?\n",
        "7. Как определить класс в python? Для чего нужна переменная self?\n",
        "8. Как определить приватный метод? Можно ли вызвать приватный метод за пределами класса?\n",
        "9. Как определить статический метод класса? Для чего может понадобиться статический метод?\n",
        "10. Чем staticmethod отличается от classmethod?\n",
        "11. Как определить собственный класс исключений Python? Как выбросить и перехватить исключение?\n",
        "12. Что такое картеж, для чего он используется?\n"
      ]
    }
  ],
  "metadata": {
    "language_info": {
      "name": "python"
    },
    "colab": {
      "provenance": [],
      "include_colab_link": true
    },
    "kernelspec": {
      "name": "python3",
      "display_name": "Python 3"
    }
  },
  "nbformat": 4,
  "nbformat_minor": 0
}